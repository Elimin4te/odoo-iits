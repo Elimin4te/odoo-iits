{
 "cells": [
  {
   "cell_type": "code",
   "execution_count": 3,
   "id": "ed5d14f5-f90a-4ad2-9429-76c0b41326eb",
   "metadata": {},
   "outputs": [
    {
     "data": {
      "text/plain": [
       "[{'id': 1,\n",
       "  'full_name': 'Chucho Emiliana',\n",
       "  'birth_date': False,\n",
       "  'join_date': False,\n",
       "  'nationality': 'arg',\n",
       "  'agency': False,\n",
       "  'is_new': True,\n",
       "  'completed_missions': 0,\n",
       "  'role': 'Biologist',\n",
       "  'height_meters': 1.61,\n",
       "  'weight_kg': 51.0,\n",
       "  'IQ': 187,\n",
       "  '__last_update': datetime.datetime(2022, 11, 10, 0, 28, 13, 198997),\n",
       "  'display_name': 'example.crewmates,1',\n",
       "  'create_uid': (1, 'System'),\n",
       "  'create_date': datetime.datetime(2022, 11, 10, 0, 28, 13, 198997),\n",
       "  'write_uid': (1, 'System'),\n",
       "  'write_date': datetime.datetime(2022, 11, 10, 0, 28, 13, 198997)},\n",
       " {'id': 2,\n",
       "  'full_name': 'Celio Cayetano',\n",
       "  'birth_date': False,\n",
       "  'join_date': False,\n",
       "  'nationality': 'esp',\n",
       "  'agency': False,\n",
       "  'is_new': False,\n",
       "  'completed_missions': 0,\n",
       "  'role': 'Engineer',\n",
       "  'height_meters': 1.86,\n",
       "  'weight_kg': 71.0,\n",
       "  'IQ': 175,\n",
       "  '__last_update': datetime.datetime(2022, 11, 10, 0, 28, 13, 198997),\n",
       "  'display_name': 'example.crewmates,2',\n",
       "  'create_uid': (1, 'System'),\n",
       "  'create_date': datetime.datetime(2022, 11, 10, 0, 28, 13, 198997),\n",
       "  'write_uid': (1, 'System'),\n",
       "  'write_date': datetime.datetime(2022, 11, 10, 0, 28, 13, 198997)},\n",
       " {'id': 3,\n",
       "  'full_name': 'Luther Rube',\n",
       "  'birth_date': False,\n",
       "  'join_date': False,\n",
       "  'nationality': 'usa',\n",
       "  'agency': False,\n",
       "  'is_new': False,\n",
       "  'completed_missions': 0,\n",
       "  'role': 'Captain',\n",
       "  'height_meters': 1.8,\n",
       "  'weight_kg': 75.0,\n",
       "  'IQ': 190,\n",
       "  '__last_update': datetime.datetime(2022, 11, 10, 0, 28, 13, 198997),\n",
       "  'display_name': 'example.crewmates,3',\n",
       "  'create_uid': (1, 'System'),\n",
       "  'create_date': datetime.datetime(2022, 11, 10, 0, 28, 13, 198997),\n",
       "  'write_uid': (1, 'System'),\n",
       "  'write_date': datetime.datetime(2022, 11, 10, 0, 28, 13, 198997)}]"
      ]
     },
     "execution_count": 3,
     "metadata": {},
     "output_type": "execute_result"
    }
   ],
   "source": [
    "env['example.crewmates'].search_read([])"
   ]
  },
  {
   "cell_type": "code",
   "execution_count": null,
   "id": "473b03c8-8d11-4748-8d33-eb503e45f0d5",
   "metadata": {},
   "outputs": [],
   "source": []
  }
 ],
 "metadata": {
  "kernelspec": {
   "display_name": "Odoo-shell",
   "language": "",
   "name": "odoo"
  },
  "language_info": {
   "codemirror_mode": {
    "name": "ipython",
    "version": 3
   },
   "file_extension": ".py",
   "mimetype": "text/x-python",
   "name": "python",
   "nbconvert_exporter": "python",
   "pygments_lexer": "ipython3",
   "version": "3.10.6"
  }
 },
 "nbformat": 4,
 "nbformat_minor": 5
}
